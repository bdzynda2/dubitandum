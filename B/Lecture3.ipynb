{
 "cells": [
  {
   "cell_type": "markdown",
   "metadata": {},
   "source": [
    "# Lecture 3\n",
    "\n",
    "## August 28, 2018\n",
    "\n",
    "## Econ 501B"
   ]
  },
  {
   "cell_type": "markdown",
   "metadata": {},
   "source": [
    "### Theorem: Gale-Shapley (1962):\n",
    "\n",
    "_In any one-to-one matching environment there exists a stable matching $\\mu$._ \n",
    "\n",
    "The proof is constructive such that it makes a stable matching $\\mu$ such that it employs the T-proposal Deferred Acceptance Algorithm. \n",
    "\n",
    "__Sketch of Algorithm__\n",
    "\n",
    "1. Each T agent proposes to her most preferred B agent if there is one that is acceptable to her. Each B agent tentatively holds on to the most preferred proposal provided that there is one acceptable to her.\n",
    "2. Denote this step as $k \\ge 2$. Each T agent that was rejected at Step $k-1$ makes the proposal to her next highest acceptable choice if there is one. And each B agent tentatively holds on to her most preferred option amongst new proposals plus $k-1$ held proposals if there is one acceptable. All other proposals are rejected. \n",
    "\n",
    "Algorithm will terminate when: $k = k+1$\n"
   ]
  },
  {
   "cell_type": "markdown",
   "metadata": {},
   "source": [
    "Fix $X \\subset J$ where $J$ is a set of agents. Write $\\max_i X = \\{j \\in X: j \\succsim_i j' \\forall j' \\in X\\}$\n",
    "\n",
    "If $X = \\emptyset$ then $\\max_i X = \\emptyset$"
   ]
  },
  {
   "cell_type": "markdown",
   "metadata": {},
   "source": [
    "Formally, the Algorithm can be written as follows:\n",
    "\n",
    "__Round 1:__\n",
    "\n",
    "$A^1(t) = A(t)$ T ask what agents are acceptable to me in round 1?\n",
    " \n",
    " \n",
    " $\\hat{P}^1 : T  \\rightarrow B \\cup \\{\\emptyset\\} : \\hat{P}^1 \\in \\max_t A^1(t)$ I want to make proposal to best B agent. T is matched with best B agent or keeps to himself (empty set). \n",
    "\n",
    "If $A^1(t) \\ne \\emptyset$ choose the best B agent. If $A^1(t) = \\emptyset$, choose $\\emptyset$\n",
    "\n",
    "\n",
    "What are B agents going to do?\n",
    "\n",
    "\n",
    "\n",
    "$P^1(b) = (\\hat{P}^1)^{-1}(\\{b\\}) \\cap A(b) = \\{t \\in T: \\hat{P}^1(t) = b : t \\in A(b)\\}$\n",
    "\n",
    "\n",
    "The above means t has made a proposal to me and that t is acceptable to me. "
   ]
  },
  {
   "cell_type": "markdown",
   "metadata": {},
   "source": [
    "Now, $\\hat{\\mu}^1: B \\rightarrow T \\cup \\{\\emptyset\\}$ such that $\\hat{\\mu}^1 \\in \\max_b P^1(b)$\n",
    "\n",
    "\n",
    "If $P^1(b) = \\emptyset$ then $\\hat{\\mu}^1(b) = \\emptyset$. That is if none are acceptable, I hold on to myself. "
   ]
  },
  {
   "cell_type": "markdown",
   "metadata": {},
   "source": [
    "__Round k+1__:\n",
    "\n",
    "\n",
    "Inductively, I have defined:\n",
    "\n",
    "- Sets $(A^k(t): t \\in T)$\n",
    "- maps $\\hat{P}^k: T \\rightarrow B \\cup \\{\\emptyset\\}$\n",
    "- sets $(P^k(b): b \\in B)$ and $P^k \\subseteq T$\n",
    "- maps $\\hat{\\mu}^k: B \\rightarrow T \\cup \\{\\emptyset\\}$\n",
    "\n"
   ]
  },
  {
   "cell_type": "markdown",
   "metadata": {},
   "source": [
    "$A^{k+1}(t) =$\n",
    "\n",
    "__(1)__   $A^k(t)$ if $\\hat{\\mu}^k(\\hat{P}^k) = t$ meaning t proposed at k to $b = \\hat{P}^k(t)$ and b accepted t at $k$.\n",
    "\n",
    "\n",
    "But, he if rejected the offer, I throw him out of the running:\n",
    "\n",
    "\n",
    "__(2)__   $A^k(t) \\setminus \\{\\hat{P}^k(t)\\}$ \n",
    "\n",
    "if \n",
    "\n",
    "$\\hat{\\mu}^k(\\hat{P}^k(t)) \\ne t$\n",
    "\n",
    "\n",
    "If I was accepted on round $k$, then I offer the same offer to the same person on round $k+1$. \n",
    "\n",
    "$\\hat{P}^{k+1}(t) = \\hat{P}^k$ if it is the case that  $\\hat{P}^k(t) \\in A^{k+1}(t)$\n",
    "\n",
    "$\\hat{P}^{k+1}(t) \\in \\max_t A^{k+1}(t)$ if it is the case $\\hat{P}^k(t) \\notin A^{k+1}(t)$\n",
    "\n",
    "\n",
    "\n",
    "The set of proposals that b has on round $k+1$:\n",
    "\n",
    "\n",
    "$P^{k+1}(b) = (\\hat{P}^{k+1})^{-1} (\\{b\\}) \\cap A(b)$\n",
    "\n",
    "\n",
    "Which is equivalent to:\n",
    "\n",
    "$$\\{t \\in T: \\hat{P}^{k+1}(t) = b: t \\in A(b)$$\n"
   ]
  },
  {
   "cell_type": "markdown",
   "metadata": {},
   "source": [
    "I hold on to exactly the same offer if it is the case that b is still a maximizer for me. \n",
    "\n",
    "\n",
    "\n",
    "$$\\hat{\\mu}^{k+1}: B \\rightarrow T \\cup \\{B\\}$$\n",
    "\n",
    "\n",
    "$\\hat{\\mu}^{k+1}(b) = \\hat{\\mu}^{k}(b)$ if it is the case that $\\hat{\\mu}^{k+1}(b) \\in \\max_b P^{k+1}(b)$\n",
    "\n",
    "And\n",
    "\n",
    "$\\hat{\\mu}^{k+1}(b) = \\max_b P^{k+1}(b)$ if it is the case that $\\hat{\\mu}^{k+1}(b) \\notin \\max_b P^{k+1}(b)$\n"
   ]
  },
  {
   "cell_type": "markdown",
   "metadata": {},
   "source": [
    "### Lemma 1: the T-proposal in the algorithm terminates:\n",
    "\n",
    "$$\\exists K < \\infty: \\forall k \\ge K: \\hat{P}^k = \\hat{P}^K \\land \\hat{\\mu}^k = \\hat{\\mu}^K$$"
   ]
  },
  {
   "cell_type": "markdown",
   "metadata": {},
   "source": [
    "__Proof__\n",
    "\n",
    "k is when the acceptable offer stops for every t agent. \n",
    "\n",
    "For each $t \\in T$, $(A^k(t): k = 1,2,...)$ is decreasing. \n",
    "\n",
    "\n",
    "$..., \\subseteq A^3(t) \\subseteq A^2(t) \\subseteq A^1(t)$\n",
    "\n",
    "\n",
    "$\\exists K: \\forall t \\in T, A^k(t) = A^K(t) \\forall k \\ge K$\n",
    "\n",
    "\n",
    "\n",
    "By definition, $\\hat{P}^k(t) = \\hat{P}^k(t)$ for all $t \\in T$ and $k \\ge K$\n",
    "\n",
    "\n",
    "This implies that $\\hat{P}^k(b) = \\hat{P}^k(b)$ for all $b \\in B$ and $k \\ge K$\n",
    "\n",
    "\n",
    "Which implies that $\\hat{\\mu}^k(b) = \\hat{\\mu}^K(b)$ for all $b \\in B$ and $k \\ge K$. \n",
    "\n",
    "\n",
    "\n",
    "Show that the algorithm terminates. But does it give us a stable match?\n"
   ]
  },
  {
   "cell_type": "markdown",
   "metadata": {},
   "source": [
    "### Example\n",
    "\n",
    "\n",
    "Let $T = \\{t_1, t_3, t_3\\}$ and also $B = \\{b_1, b_2, b_3\\}$\n",
    "\n",
    "$$t_1: b_2 \\succ_{t_1} b_1 \\succ_{t_1} b_3 \\succ_{t_1} t_1$$"
   ]
  },
  {
   "cell_type": "markdown",
   "metadata": {},
   "source": [
    "$$t_2: b_1 \\succ_{t_2} b_2 \\succ_{t_2} b_3 \\succ_{t_2} t_2$$\n",
    "\n"
   ]
  },
  {
   "cell_type": "markdown",
   "metadata": {},
   "source": [
    "$$t_3: b_1 \\succ_{t_3} b_2 \\succ_{t_3} b_3 \\succ_{t_3} t_3$$\n",
    "\n",
    "\n",
    "\n",
    "Notice $t_2$ and $t_3$ have the same preferences. \n",
    "\n",
    "\n",
    "$B$'s preferences:\n",
    "\n",
    "$$b_1: t_1 \\succ_{b_1} t_3 \\succ_{b_1} t_2 \\succ_{b_1} b_1$$"
   ]
  },
  {
   "cell_type": "markdown",
   "metadata": {},
   "source": [
    "$$b_2: t_2 \\succ_{b_2} t_1 \\succ_{b_2} t_3 \\succ_{b_2} b_2$$"
   ]
  },
  {
   "cell_type": "markdown",
   "metadata": {},
   "source": [
    "$$b_3: t_1 \\succ_{b_3} t_3 \\succ_{b_3} t_2 \\succ_{b_3} b_3$$\n",
    "\n",
    "\n",
    "\n",
    "\n",
    "Notice $b_1$ and $b_3$ have the same preference."
   ]
  },
  {
   "cell_type": "markdown",
   "metadata": {},
   "source": [
    "__Step 1:__\n",
    "\n",
    "- for all $t \\in T: A^1(t) = B$\n",
    "- $\\hat{P^1}(t_1) = b_2, \\hat{P}^1(t_2) = b_1, \\hat{P}^1(t_3) = b_1$\n",
    "- $P^1(b_1) = \\{t_2, t_3\\}$ and $P^1(b_2) = \\{t_1\\}$ and $P^1(b_3) = \\emptyset$\n",
    "- $\\hat{\\mu}^1(b_1) = t_3$ and $\\hat{\\mu}^1(b_2) = t_1$ and $\\hat{\\mu}^1(b_3) = \\emptyset$\n",
    "\n",
    "\n",
    "\n",
    "__Step 2:__\n",
    "\n",
    "- $A^2(t_1) = B$ and $A^2(t_2) = \\{b_2, b_3\\}$ and $A^2(t_3) = B$\n",
    "- $\\hat{P}^2(t_1) = b_2$ and $\\hat{P}^2(t_2) = b_2$ and $\\hat{P}^2(t_3) = b_1$\n",
    "- $P^2(b_1) = \\{t_3\\}$ and $P^2(b_2) = \\{t_1, t_2\\}$ and $P^3(b_3) = \\emptyset$\n",
    "- $\\hat{\\mu}^2(b_1) = t_3$ and $\\hat{\\mu}^2(b_2) = t_2$ and $\\hat{\\mu}^2(b_3) = \\emptyset$\n",
    "\n",
    "\n",
    "\n",
    "__Step 3:__\n",
    "\n",
    "- $A^3(t_1) = \\{b_1, b_3\\}$ and $A^3(t_2) = \\{b_2, b_3\\}$ and $A^3(t_3) = B$\n",
    "- $\\hat{P}^3(t_1) = b_1$ and $\\hat{P}^3(t_2) = b_2$ and $\\hat{P}^3(t_3) = b_1$\n",
    "- $P^3(b_1) = \\{t_1, t_3\\}$ and $P^3(b_2) = \\{t_2\\}$ and $P^3(b_3) = \\emptyset$\n",
    "- $\\hat{\\mu}^3(b_1) = t_3$ and $\\hat{\\mu}^3(b_2) = t_2$ and $\\hat{\\mu}^3(b_3) = \\emptyset$\n",
    "\n",
    "\n",
    "\n",
    "__Step 4:__\n",
    "\n",
    "- $A^4(t_1) = \\{b_1, b_3\\}$ and $A^4(t_2) = \\{b_2, b_3\\}$ and $A^4(t_3) = \\{b_2, b_3\\}$\n",
    "- $\\hat{P}^4(t_1) = b_1$ and $\\hat{P}^4(t_2) = b_2$ and $\\hat{P}^4(t_3) = b_2$\n",
    "- $P^4(b_1) = \\{t_1\\}$ and $P^4(b_2) = \\{t_2, t_3\\}$ and $P^4(b_3) = \\emptyset$\n",
    "- $\\hat{\\mu}^4(b_1) = t_1$ and $\\hat{\\mu}^4(b_2) = t_2$ and $\\hat{\\mu}^4(b_3) = \\emptyset$\n",
    "\n",
    "\n",
    "\n",
    "__Step 5:__\n",
    "\n",
    "- $A^5(t_1) = \\{b_1, b_3\\}$ and $A^5(t_2) = \\{b_2, b_3\\}$ and $A^5(t_3) = \\{b_3\\}$\n",
    "- $\\hat{P}^5(t_1) = b_1$ and $\\hat{P}^5(t_2) = b_2$ and $\\hat{P}^5(t_3) = b_3$\n",
    "- $P^5(b_1) = \\{t_1\\}$ and $P^5(b_2) = \\{t_2\\}$ and $P^5(b_3) = \\{t_3\\}$\n",
    "- $\\hat{\\mu}^5(b_1) = t_1$ and $\\hat{\\mu}^5(b_2) = t_2$ and $\\hat{\\mu}^5(b_3) = t_3$.\n",
    "\n",
    "\n",
    "\n",
    "\n",
    "You can check this is exactly what was completed last class without the Differed Acceptance Algorithm. \n",
    "\n",
    "Since it terminates at $k+1$ technically there is a __Step 6__ where everything in __5__ is repeated. \n",
    "\n"
   ]
  }
 ],
 "metadata": {
  "kernelspec": {
   "display_name": "Python 3",
   "language": "python",
   "name": "python3"
  },
  "language_info": {
   "codemirror_mode": {
    "name": "ipython",
    "version": 3
   },
   "file_extension": ".py",
   "mimetype": "text/x-python",
   "name": "python",
   "nbconvert_exporter": "python",
   "pygments_lexer": "ipython3",
   "version": "3.6.5"
  }
 },
 "nbformat": 4,
 "nbformat_minor": 2
}
