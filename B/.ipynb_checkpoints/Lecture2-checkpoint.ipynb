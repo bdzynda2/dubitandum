{
 "cells": [
  {
   "cell_type": "markdown",
   "metadata": {},
   "source": [
    "# Lecture 2\n",
    "## _David Zynda_\n",
    "## _August 23, 2018_\n",
    "________________________________________________\n",
    "\n",
    "\n",
    "## Matching Environment\n",
    "Let the enviroment $\\epsilon$ be defined as:\n",
    "\n",
    "$$\\epsilon = (T, B; (\\succsim_i)_{i \\in T \\cup B})$$\n",
    "\n",
    "So, $\\succsim_t$ is the binary relation on $B \\cup \\{t\\}$ and $\\succsim_b$ is the binary relation on $T \\cup \\{t\\}$.\n",
    "\n",
    "We add to environment, as in last lecture, a matching represented by:\n",
    "\n",
    "$$\\mu: (T \\cup B) \\rightarrow (T \\cup B)$$\n",
    "\n",
    "such that:\n",
    "\n",
    "1. for each $i \\in I: \\mu(i) \\in J \\cup \\{i\\}$\n",
    "\n",
    "2. if $\\mu(i) = j \\in J$ then $\\mu(j) = i \\in I$.\n",
    "\n",
    "\n",
    "Now, what cases would individuals or groups of individuals have the incentive to deviate from the match they have? In other words, is that match suitable?\n",
    "\n",
    "\n",
    "\n"
   ]
  },
  {
   "cell_type": "markdown",
   "metadata": {},
   "source": [
    "## Acceptable Matches\n",
    "\n",
    "\n",
    "__Definition__: A match is acceptable if an agent prefers a match rather than being alone. Formally, $j \\in J$ is acceptable to $i \\in I$ if $j \\succsim_i i$. Or:\n",
    "\n",
    "$$A(i) = \\{j \\in J: j \\succsim_i i\\}$$\n",
    "\n",
    "\n",
    "This simply says that \"I like $j$ at least as much as I like being alone\". \n",
    "\n",
    "\n",
    "\n",
    "\n",
    "__Definition__: A matching is _individually rational_ (IR) if for each side of the market $I \\in \\{T,B\\}$ and each $i \\in I$:\n",
    "$$\\mu(i) \\in A(i) \\cup \\{i\\}$$\n",
    "\n",
    "\n",
    "\n",
    "\n",
    "__Definition__: a pair $(t,b)$ blocks $\\mu$ if:\n",
    "\n",
    "\n",
    "-  $b \\succsim_t \\mu(t)$\n",
    "-  $t \\succsim_b \\mu(b)$\n",
    "\n",
    "\n",
    "In English:\n",
    "\n",
    "-  $t$ prefers $b$ to whoever he is matched with. \n",
    "-  $b$ prefers $t$ to whoever he is matched with. \n",
    "\n",
    "\n",
    "\n",
    "__Definition__: a match $\\mu: (T \\cup B) \\rightarrow (T \\cup B)$ is suitable if it is individually rational (IR) and there is no blocking pair. \n"
   ]
  },
  {
   "cell_type": "markdown",
   "metadata": {},
   "source": [
    "## Example 1:\n",
    "\n",
    "Imagine an environment with, say, two firms $T$ and two employees $B$:\n",
    "\n",
    "$$T = \\{t_1, t_2\\}$$\n",
    "$$B = \\{b_1, b_2\\}$$\n",
    "\n",
    "\n",
    "Preferences of $T$:\n",
    "\n",
    "\n",
    "$$t_1: \\space b_1 \\succsim_{t_1} b_2 \\succsim_{t_1} t_1$$\n",
    "$$t_2: \\space b_2 \\succsim_{t_2} b_1 \\succsim_{t_2} t_2$$\n",
    "\n",
    "\n",
    "Preferences of $B$:\n",
    "\n",
    "\n",
    "$$b_1: \\space t_2 \\succsim_{b_1} t_1 \\succsim_{b_1} b_1$$ \n",
    "$$b_2: \\space t_1 \\succsim_{b_2} t_2 \\succsim_{b_2} b_2$$\n",
    "\n",
    "\n",
    "\n",
    "As can be seen, each match is individually rational since for each individual in each side of the market, they either prefer to keep to themselves or has an agent on the otherside of the market who is at least as much preferred than to be alone. \n",
    "\n",
    "\n",
    "Let's examine 3 cases and see if there is a suitable match, or if a blocking pair stands in the way:\n",
    "\n",
    "1. $\\mu(t_1) = b_2$\n",
    "2. $\\mu(t_1) = b_1$\n",
    "3. $\\mu(t_1) = t_1$\n",
    "\n"
   ]
  },
  {
   "cell_type": "markdown",
   "metadata": {},
   "source": [
    "__Case 1:__ $\\mu(t_1) = b_2$\n",
    "\n",
    "\n",
    "$\\mu(t_1) = b_2 \\implies \\mu(b_2) = t_1$\n",
    "\n",
    "\n",
    "This implies (by \"no blocking pair\") that $\\mu(b_1) = t_2 \\implies \\mu(t_2) = b_1$\n",
    "\n",
    "In short: \n",
    "\n",
    "$$\\mu(t_1) = b_2 \\\\ \\mu(b_1) = t_2 \\\\ \\mu(t_2) = b_1 \\\\ \\mu(b_2) = t_1$$\n",
    "\n",
    "are all stable matchings. Here, every $b$ gets its most preferred option\n",
    "\n"
   ]
  },
  {
   "cell_type": "markdown",
   "metadata": {},
   "source": [
    "__Case 2:__ $\\mu(t_1) = b_1$\n",
    "\n",
    "$\\mu(t_1) = b_1 \\implies \\mu(b_1) = t_1$\n",
    "\n",
    "This implies by \"no blocking pair\" that $\\mu(t_2) = b_2 \\implies \\mu(b_2) = t_2$\n",
    "\n",
    "Since there is no blocking pair, all the matches are stable. Every $t$ gets their most preferred option. "
   ]
  },
  {
   "cell_type": "markdown",
   "metadata": {},
   "source": [
    "__Case 3:__ $\\mu(t_1) = t_1$\n",
    "\n",
    "If $\\mu(t_1) = t_1$ then $\\exists b \\in B$ with $\\mu(b) = b$. Then $(t_1, b)$ forms a blocking pair. This matching is not stable. "
   ]
  },
  {
   "cell_type": "markdown",
   "metadata": {},
   "source": [
    "## Lemma\n",
    "\n",
    "Suppose all agents have strict preferences and:\n",
    "\n",
    "$$|\\{t \\in T: A(t) = B\\}| = |\\{b \\in B: A(b) = T\\}| = k.$$\n",
    "\n",
    "In English, the number in the set of all $t$'s who find all $b$'s acceptable is equal to the number in the set of all $b$'s who find all $t$'s acceptable is set to the value of $k$\n",
    "\n",
    "\n",
    "Then, if $\\mu : (T \\cup B) \\rightarrow (T \\cup B)$ is stable, then:\n",
    "\n",
    "$$|\\{t \\in T: \\mu(t) \\ne t\\}| \\ge k$$\n",
    "\n",
    "\n",
    "Again, in English the set of $t$ agents matched as to contain at least $k$ elements. For example, say that there are 20 $t$'s and 30 $b$'s. If 10 $b$'s find all $t$'s acceptable and vice versa, then the number of stable matchings is at least 10. \n",
    "\n",
    "\n",
    "### Proof: \n",
    "Suppose the the contrary that:\n",
    "\n",
    "__IF__ (the same as the original antecedent)\n",
    "\n",
    "$$|\\{t \\in T: A(t) = B\\}| = |\\{b \\in B: A(b) = T\\}| = k.$$\n",
    "and if $\\mu : (T \\cup B) \\rightarrow (T \\cup B)$ is stable\n",
    "\n",
    "__THEN__ (The negation of the consequent)\n",
    "$$\\{t \\in T: \\mu(t) \\ne t\\}| < k$$\n",
    "\n",
    "\n",
    "Assuming this, if follow that:\n",
    "$$\\exists t \\in T : \\mu(t) = t$$\n",
    "\n",
    "However, since the number of $t$'s is less than all possible stable matchings $k$ (as there exists one $t$ who matches with itself), it follows that:\n",
    "\n",
    "$$\\exists b \\in B : \\mu(b) = b$$\n",
    "\n",
    "It would then have to be the case there is a pair $(t, b)$ which blocks $\\mu$. This is a contradiction, since we assumed $\\mu$ was stable\n",
    "\n",
    "\n"
   ]
  },
  {
   "cell_type": "markdown",
   "metadata": {},
   "source": [
    "### Corollary\n",
    "\n",
    "Suppose $|T| = |B|$ and for each agent $i$:\n",
    "\n",
    "1. $i$ has strict preferences\n",
    "2. $A(i) = J$\n",
    "\n",
    "Then, in a stable match, all agents are matched. "
   ]
  },
  {
   "cell_type": "markdown",
   "metadata": {},
   "source": [
    "## Example 2\n",
    "\n",
    "$$T = \\{t_1, t_2, t_3\\}$$\n",
    "$$B = \\{b_1, b_2, b_3\\}$$\n",
    "\n",
    "\n",
    "$T$'s preferences:\n",
    "\n",
    "$$t_1: b_2 \\succ_{t_1} b_1 \\succ_{t_1} b_3 \\succ_{t_1} t_1$$\n",
    "\n"
   ]
  },
  {
   "cell_type": "markdown",
   "metadata": {},
   "source": [
    "$$t_2: b_1 \\succ_{t_2} b_2 \\succ_{t_2} b_3 \\succ_{t_2} t_2$$\n",
    "$$t_3: b_1 \\succ_{t_3} b_2 \\succ_{t_3} b_3 \\succ_{t_3} t_3$$\n",
    "\n",
    "\n",
    "\n",
    "Notice $t_2$ and $t_3$ have the same preferences. \n",
    "\n",
    "\n",
    "$B$'s preferences:\n",
    "\n",
    "$$b_1: t_1 \\succ_{b_1} t_3 \\succ_{b_1} t_2 \\succ_{b_1} b_1$$\n"
   ]
  },
  {
   "cell_type": "markdown",
   "metadata": {},
   "source": [
    "$$b_2: t_2 \\succ_{b_2} t_1 \\succ_{b_2} t_3 \\succ_{b_2} b_2$$\n",
    "$$b_3: t_1 \\succ_{b_3} t_3 \\succ_{b_3} t_2 \\succ_{b_3} b_3$$\n",
    "\n",
    "\n",
    "\n",
    "\n",
    "Notice $b_1$ and $b_3$ have the same preference. \n"
   ]
  },
  {
   "cell_type": "markdown",
   "metadata": {},
   "source": [
    "Also notice that $|T| = |B|$ and $A(t) = B$ and $A(b) = T$. \n",
    "\n",
    "Then, by the corollary, in a stable match, all agents are matched!\n",
    "\n",
    "Once again, let's consider three possible matchings:\n",
    "\n",
    "1. $\\mu(t_1) = b_2$\n",
    "2. $\\mu(t_1) = b_1$\n",
    "3. $\\mu(t_1) = b_3$\n"
   ]
  },
  {
   "cell_type": "markdown",
   "metadata": {},
   "source": [
    "__Case 1:__ $\\mu(t_1) = b_2$\n",
    "\n",
    "$\\mu(t_1) = b_2 \\implies \\mu(b_2) = t_1$\n",
    "\n",
    "By \"no blocking pair\", this means that $\\mu(t_2) = b_1 \\implies \\mu(b_1) = t_2$\n",
    "\n",
    "And again, $\\mu(t_3) = b_3$\n",
    "\n",
    "Now, $(t_3, b_1)$ form a blocking pair. So, this matching is not stable. \n",
    "\n",
    "$$b_1 \\succ_{t_3} t_3 \\\\ \\mu(t_3) = b_3$$\n",
    "$$t_3 \\succ_{b_1} b_1 \\\\ \\mu(b_1) = t_2$$\n",
    "\n",
    "\n",
    "Conclusion: if $\\mu$ is stable, then $\\mu(t_1) = b_1$\n"
   ]
  },
  {
   "cell_type": "markdown",
   "metadata": {},
   "source": [
    "__Case 2:__ $\\mu(t_1) = b_1 \\implies \\mu(b1) = t_1$\n",
    "\n",
    "We can infer (by no blocking pair) that:\n",
    "\n",
    "$$\\mu(b_2) = t_2 \\implies \\mu(t_2) = b_2$$\n",
    "$$\\mu(t_3) = b_3 \\implies \\mu(b_3) = t_3$$\n",
    "\n",
    "There is no blocking pair because $b_1$ and $b_2$ are geting their best. This is stable (and it fulfills the corollary)"
   ]
  },
  {
   "cell_type": "markdown",
   "metadata": {},
   "source": [
    "__Case 3:__ $\\mu(t_1) = b_3 \\implies \\mu(b_1) \\ne t_1$\n",
    "\n",
    "Now:\n",
    "\n",
    "$$t_1 \\succ_{b_1} \\mu(b_1)$$\n",
    "$$b_1 \\succ_{t_1} \\mu(t_1) = b_3$$\n",
    "\n",
    "Hence there is a blocking pair. If matching is table, then $\\mu(t_1) \\ne b_3$. \n",
    "\n"
   ]
  }
 ],
 "metadata": {
  "kernelspec": {
   "display_name": "Python 3",
   "language": "python",
   "name": "python3"
  },
  "language_info": {
   "codemirror_mode": {
    "name": "ipython",
    "version": 3
   },
   "file_extension": ".py",
   "mimetype": "text/x-python",
   "name": "python",
   "nbconvert_exporter": "python",
   "pygments_lexer": "ipython3",
   "version": "3.6.5"
  }
 },
 "nbformat": 4,
 "nbformat_minor": 2
}
